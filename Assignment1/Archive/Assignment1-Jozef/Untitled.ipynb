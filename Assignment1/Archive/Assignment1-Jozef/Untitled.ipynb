{
 "cells": [
  {
   "cell_type": "code",
   "execution_count": null,
   "metadata": {},
   "outputs": [],
   "source": [
    "import sys\n",
    "!{sys.executable} -m pip install numpy"
   ]
  },
  {
   "cell_type": "code",
   "execution_count": 144,
   "metadata": {},
   "outputs": [],
   "source": [
    "import numpy as np\n",
    "from anytree import AnyNode, RenderTree"
   ]
  },
  {
   "cell_type": "code",
   "execution_count": 412,
   "metadata": {},
   "outputs": [],
   "source": [
    "debug = False\n",
    "# debug = True"
   ]
  },
  {
   "cell_type": "code",
   "execution_count": 416,
   "metadata": {},
   "outputs": [],
   "source": [
    "def impurity(array):\n",
    "    total = np.shape(array)[0]\n",
    "    zero = np.shape(array[array == 0])[0]\n",
    "    one = np.shape(array[array == 1])[0]\n",
    "    result = (zero / total) * (one / total)\n",
    "    return result\n",
    "\n",
    "def bestsplit(x,y):\n",
    "    iSorted = np.sort(np.unique(x))\n",
    "    iSCount = np.shape(iSorted)[0]\n",
    "\n",
    "    splitpoints = (iSorted[0:iSCount-1]+iSorted[1:iSCount])/2\n",
    "    bestSplit  = 0\n",
    "    bestSplitImpurity = 1.0\n",
    "    \n",
    "    \n",
    "    for s in splitpoints:\n",
    "        left = y[x <= s]\n",
    "        right = y[x > s]\n",
    "        splitImpurity = (impurity(left) + impurity(right))/2\n",
    "        if (splitImpurity < bestSplitImpurity):\n",
    "            bestSplit = s\n",
    "            bestSplitImpurity = splitImpurity\n",
    "            \n",
    "    return bestSplit, bestSplitImpurity\n",
    "\n",
    "def multiFeatureSplit(x, y):\n",
    "    \n",
    "    bestSplit  = 0\n",
    "    bestSplitImpurity = 1.0\n",
    "    \n",
    "    nFeatures = np.shape(x)[1]\n",
    "    for i in range(nFeatures):\n",
    "        split, splitImpurity = bestsplit(x[:,i],y)\n",
    "        if debug:\n",
    "            print(\"split for col \", i, \":\", bestsplit(x[:,i],y))\n",
    "        if (splitImpurity < bestSplitImpurity):\n",
    "            splitFeature = i\n",
    "            bestSplit = split\n",
    "            bestSplitImpurity = splitImpurity\n",
    "    if debug:\n",
    "        print(\"best split at col:\", splitFeature, \"bestSplit:\", bestSplit, \"impurity:\", bestSplitImpurity)\n",
    "    return splitFeature, bestSplit, bestSplitImpurity"
   ]
  },
  {
   "cell_type": "code",
   "execution_count": 417,
   "metadata": {},
   "outputs": [
    {
     "name": "stdout",
     "output_type": "stream",
     "text": [
      "DIMENSION: (10, 5)\n"
     ]
    },
    {
     "data": {
      "text/plain": [
       "(3, 36.0, 0.10204081632653061)"
      ]
     },
     "execution_count": 417,
     "metadata": {},
     "output_type": "execute_result"
    }
   ],
   "source": [
    "#-------MULTIFEATURESPLIT TEST-------\n",
    "credit_data = np.genfromtxt(\"credit.txt\", delimiter=',',skip_header=True)\n",
    "multiFeatureSplit(credit_data[:,np.arange(0,5)],credit_data[:,5])\n"
   ]
  },
  {
   "cell_type": "code",
   "execution_count": 432,
   "metadata": {},
   "outputs": [],
   "source": [
    "#x data-matrix, \n",
    "#y vector of class labels, binary 0 or 1\n",
    "#nmin minimum observations each node should contain\n",
    "#minleaf minimum observations for each leaf\n",
    "#nfeat number of features considered for each split, draw random number of features from which best split is to be selected\n",
    "\n",
    "def tree_grow(x, y, nmin, minleaf, nfeat):\n",
    "\n",
    "    root = AnyNode(indices = np.arange(0,np.shape(x)[0]))\n",
    "    \n",
    "    nodeStack = [root]\n",
    "    \n",
    "#     while len(nodeStack) >0:\n",
    "    for i in range(8):\n",
    "        n = nodeStack[0]\n",
    "        nodeStack = np.delete(nodeStack, 0)\n",
    "        ny = np.take(y, n.indices)\n",
    "        nx = x[n.indices,:]\n",
    "        if impurity(ny)>0:\n",
    "            f, s, imp = multiFeatureSplit(nx,ny) #feature, splitValue, impurity\n",
    "            n.f = f\n",
    "            n.s = s\n",
    "\n",
    "            \n",
    "            leftIndices =  np.where(x[:,f] < s)[0]\n",
    "            rightIndices = np.where(x[:,f] >= s)[0]\n",
    "#             leftIndices =  list(set(np.where(x[:,f] < s)[0]) & set(n.indices))\n",
    "#             rightIndices = list(set(np.where(x[:,f] >= s)[0]) & set(n.indices))\n",
    "            \n",
    "            nodeStack = np.append(nodeStack, AnyNode(indices = np.asarray(leftIndices), parent = n))\n",
    "            nodeStack = np.append(nodeStack, AnyNode(indices = np.asarray(rightIndices), parent = n))\n",
    "            print(leftIndices, \"|\", rightIndices)\n",
    "        print(\"SubTree\", RenderTree(n))\n",
    "    print()\n",
    "    print(\"finalTree\", RenderTree(root))\n",
    "    return root\n",
    "\n",
    "\n",
    "        "
   ]
  },
  {
   "cell_type": "code",
   "execution_count": 433,
   "metadata": {},
   "outputs": [
    {
     "name": "stdout",
     "output_type": "stream",
     "text": [
      "DIMENSION: (10, 5)\n",
      "[0 1 2 3 4 5 9] | [6 7 8]\n",
      "SubTree AnyNode(f=3, indices=array([0, 1, 2, 3, 4, 5, 6, 7, 8, 9]), s=36.0)\n",
      "├── AnyNode(indices=array([0, 1, 2, 3, 4, 5, 9]))\n",
      "└── AnyNode(indices=array([6, 7, 8]))\n",
      "DIMENSION: (7, 5)\n",
      "[0 1 2 3 4 5 7 8] | [6 9]\n",
      "SubTree AnyNode(f=0, indices=array([0, 1, 2, 3, 4, 5, 9]), s=48.0)\n",
      "├── AnyNode(indices=array([0, 1, 2, 3, 4, 5, 7, 8]))\n",
      "└── AnyNode(indices=array([6, 9]))\n",
      "SubTree AnyNode(indices=array([6, 7, 8]))\n",
      "DIMENSION: (8, 5)\n",
      "[0 1 2 3 4 5 9] | [6 7 8]\n",
      "SubTree AnyNode(f=3, indices=array([0, 1, 2, 3, 4, 5, 7, 8]), s=36.0)\n",
      "├── AnyNode(indices=array([0, 1, 2, 3, 4, 5, 9]))\n",
      "└── AnyNode(indices=array([6, 7, 8]))\n",
      "SubTree AnyNode(indices=array([6, 9]))\n",
      "DIMENSION: (7, 5)\n",
      "[0 1 2 3 4 5 7 8] | [6 9]\n",
      "SubTree AnyNode(f=0, indices=array([0, 1, 2, 3, 4, 5, 9]), s=48.0)\n",
      "├── AnyNode(indices=array([0, 1, 2, 3, 4, 5, 7, 8]))\n",
      "└── AnyNode(indices=array([6, 9]))\n",
      "SubTree AnyNode(indices=array([6, 7, 8]))\n",
      "DIMENSION: (8, 5)\n",
      "[0 1 2 3 4 5 9] | [6 7 8]\n",
      "SubTree AnyNode(f=3, indices=array([0, 1, 2, 3, 4, 5, 7, 8]), s=36.0)\n",
      "├── AnyNode(indices=array([0, 1, 2, 3, 4, 5, 9]))\n",
      "└── AnyNode(indices=array([6, 7, 8]))\n",
      "\n",
      "finalTree AnyNode(f=3, indices=array([0, 1, 2, 3, 4, 5, 6, 7, 8, 9]), s=36.0)\n",
      "├── AnyNode(f=0, indices=array([0, 1, 2, 3, 4, 5, 9]), s=48.0)\n",
      "│   ├── AnyNode(f=3, indices=array([0, 1, 2, 3, 4, 5, 7, 8]), s=36.0)\n",
      "│   │   ├── AnyNode(f=0, indices=array([0, 1, 2, 3, 4, 5, 9]), s=48.0)\n",
      "│   │   │   ├── AnyNode(f=3, indices=array([0, 1, 2, 3, 4, 5, 7, 8]), s=36.0)\n",
      "│   │   │   │   ├── AnyNode(indices=array([0, 1, 2, 3, 4, 5, 9]))\n",
      "│   │   │   │   └── AnyNode(indices=array([6, 7, 8]))\n",
      "│   │   │   └── AnyNode(indices=array([6, 9]))\n",
      "│   │   └── AnyNode(indices=array([6, 7, 8]))\n",
      "│   └── AnyNode(indices=array([6, 9]))\n",
      "└── AnyNode(indices=array([6, 7, 8]))\n"
     ]
    },
    {
     "data": {
      "text/plain": [
       "AnyNode(f=3, indices=array([0, 1, 2, 3, 4, 5, 6, 7, 8, 9]), s=36.0)"
      ]
     },
     "execution_count": 433,
     "metadata": {},
     "output_type": "execute_result"
    }
   ],
   "source": [
    "#TEST\n",
    "credit_data = np.genfromtxt(\"credit.txt\", delimiter=',',skip_header=True)\n",
    "data = credit_data[:,np.arange(0,5)]\n",
    "classification = credit_data[:,5]\n",
    "\n",
    "tree_grow(data, classification, 2, 1, 1)"
   ]
  },
  {
   "cell_type": "code",
   "execution_count": 426,
   "metadata": {},
   "outputs": [
    {
     "data": {
      "text/plain": [
       "(array([6, 7, 8]),)"
      ]
     },
     "execution_count": 426,
     "metadata": {},
     "output_type": "execute_result"
    }
   ],
   "source": [
    "np.where(data[:,3] < 36)\n",
    "np.where(data[:,3] > 36)"
   ]
  },
  {
   "cell_type": "code",
   "execution_count": 275,
   "metadata": {},
   "outputs": [
    {
     "name": "stdout",
     "output_type": "stream",
     "text": [
      "[22.  0.  0. 28.  1.  0. 32.]\n"
     ]
    },
    {
     "data": {
      "text/plain": [
       "(0, 48.0, 0.06944444444444445)"
      ]
     },
     "execution_count": 275,
     "metadata": {},
     "output_type": "execute_result"
    }
   ],
   "source": [
    "indicesRange = [0, 1, 2, 3, 4, 5, 9]\n",
    "\n",
    "print(np.take(subset,indicesRange))\n",
    "\n",
    "subset = credit_data[[0, 1, 2, 3, 4, 5, 9],:]\n",
    "subsetA = subset[:,np.arange(0,5)]\n",
    "subsetB = subset[:, 5]\n",
    "multiFeatureSplit(subset[:,np.arange(0,5)],subset[:,5])\n",
    "    \n",
    "# print(subset)\n"
   ]
  },
  {
   "cell_type": "code",
   "execution_count": 150,
   "metadata": {},
   "outputs": [],
   "source": [
    "def tree_pred(x, tr):\n",
    "    y= \"vector\"\n",
    "    return y"
   ]
  },
  {
   "cell_type": "code",
   "execution_count": 427,
   "metadata": {},
   "outputs": [
    {
     "name": "stdout",
     "output_type": "stream",
     "text": [
      "[[22.  0.  0. 28.  1.  0.]\n",
      " [46.  0.  1. 32.  0.  0.]\n",
      " [24.  1.  1. 24.  1.  0.]\n",
      " [25.  0.  0. 27.  1.  0.]\n",
      " [29.  1.  1. 32.  0.  0.]\n",
      " [45.  1.  1. 30.  0.  1.]\n",
      " [63.  1.  1. 58.  1.  1.]\n",
      " [36.  1.  0. 52.  1.  1.]\n",
      " [23.  0.  1. 40.  0.  1.]\n",
      " [50.  1.  1. 28.  0.  1.]]\n",
      "-----\n",
      "[[46.  0.  1. 32.  0.  0.]\n",
      " [24.  1.  1. 24.  1.  0.]\n",
      " [25.  0.  0. 27.  1.  0.]\n",
      " [29.  1.  1. 32.  0.  0.]\n",
      " [45.  1.  1. 30.  0.  1.]\n",
      " [63.  1.  1. 58.  1.  1.]\n",
      " [36.  1.  0. 52.  1.  1.]\n",
      " [23.  0.  1. 40.  0.  1.]\n",
      " [50.  1.  1. 28.  0.  1.]]\n",
      "-----\n",
      "[[22.  0.  0. 28.  1.  0.]\n",
      " [46.  0.  1. 32.  0.  0.]\n",
      " [24.  1.  1. 24.  1.  0.]\n",
      " [25.  0.  0. 27.  1.  0.]\n",
      " [29.  1.  1. 32.  0.  0.]\n",
      " [45.  1.  1. 30.  0.  1.]\n",
      " [63.  1.  1. 58.  1.  1.]\n",
      " [36.  1.  0. 52.  1.  1.]\n",
      " [23.  0.  1. 40.  0.  1.]\n",
      " [50.  1.  1. 28.  0.  1.]]\n"
     ]
    }
   ],
   "source": [
    "print(credit_data)\n",
    "print(\"-----\")\n",
    "print(np.delete(credit_data,0, axis=0))\n",
    "print(\"-----\")\n",
    "print(credit_data)"
   ]
  },
  {
   "cell_type": "code",
   "execution_count": 44,
   "metadata": {},
   "outputs": [
    {
     "name": "stdout",
     "output_type": "stream",
     "text": [
      "[1 2 3 4 5 6 7 8 9]\n"
     ]
    }
   ],
   "source": [
    "list = np.arange(0,10)\n",
    "list = np.delete(list,0)\n",
    "print(list)"
   ]
  },
  {
   "cell_type": "code",
   "execution_count": 50,
   "metadata": {},
   "outputs": [
    {
     "data": {
      "text/plain": [
       "array([[22.,  0.,  0., 28.,  1.,  0.],\n",
       "       [46.,  0.,  1., 32.,  0.,  0.],\n",
       "       [24.,  1.,  1., 24.,  1.,  0.],\n",
       "       [50.,  1.,  1., 28.,  0.,  1.]])"
      ]
     },
     "execution_count": 50,
     "metadata": {},
     "output_type": "execute_result"
    }
   ],
   "source": [
    "np.take(credit_data, [0,1,2,9], 0)"
   ]
  },
  {
   "cell_type": "code",
   "execution_count": 66,
   "metadata": {},
   "outputs": [
    {
     "name": "stdout",
     "output_type": "stream",
     "text": [
      "[0. 0. 0. 0. 0. 1. 1. 1. 1. 1.]\n",
      "[[22.  0.  0. 28.  1.  0.]\n",
      " [46.  0.  1. 32.  0.  0.]\n",
      " [24.  1.  1. 24.  1.  0.]\n",
      " [25.  0.  0. 27.  1.  0.]\n",
      " [29.  1.  1. 32.  0.  0.]\n",
      " [45.  1.  1. 30.  0.  1.]\n",
      " [63.  1.  1. 58.  1.  1.]\n",
      " [36.  1.  0. 52.  1.  1.]\n",
      " [23.  0.  1. 40.  0.  1.]\n",
      " [50.  1.  1. 28.  0.  1.]]\n"
     ]
    }
   ],
   "source": [
    "print(credit_data[:,5])\n",
    "print(credit_data)"
   ]
  },
  {
   "cell_type": "code",
   "execution_count": 337,
   "metadata": {},
   "outputs": [
    {
     "ename": "TypeError",
     "evalue": "list indices must be integers or slices, not tuple",
     "output_type": "error",
     "traceback": [
      "\u001b[0;31m---------------------------------------------------------------------------\u001b[0m",
      "\u001b[0;31mTypeError\u001b[0m                                 Traceback (most recent call last)",
      "\u001b[0;32m<ipython-input-337-f5166ef312a1>\u001b[0m in \u001b[0;36m<module>\u001b[0;34m\u001b[0m\n\u001b[1;32m      1\u001b[0m \u001b[0mx\u001b[0m\u001b[0;34m=\u001b[0m\u001b[0;34m[\u001b[0m\u001b[0;34m[\u001b[0m\u001b[0;36m22\u001b[0m\u001b[0;34m,\u001b[0m\u001b[0;36m0\u001b[0m\u001b[0;34m,\u001b[0m\u001b[0;36m0\u001b[0m\u001b[0;34m,\u001b[0m\u001b[0;36m28\u001b[0m\u001b[0;34m,\u001b[0m\u001b[0;36m1\u001b[0m\u001b[0;34m,\u001b[0m\u001b[0;34m]\u001b[0m\u001b[0;34m,\u001b[0m\u001b[0;34m[\u001b[0m\u001b[0;36m46\u001b[0m\u001b[0;34m,\u001b[0m\u001b[0;36m0\u001b[0m\u001b[0;34m,\u001b[0m\u001b[0;36m1\u001b[0m\u001b[0;34m,\u001b[0m\u001b[0;36m32\u001b[0m\u001b[0;34m,\u001b[0m\u001b[0;36m0\u001b[0m\u001b[0;34m,\u001b[0m\u001b[0;34m]\u001b[0m\u001b[0;34m,\u001b[0m\u001b[0;34m[\u001b[0m\u001b[0;36m24\u001b[0m\u001b[0;34m,\u001b[0m\u001b[0;36m1\u001b[0m\u001b[0;34m,\u001b[0m\u001b[0;36m1\u001b[0m\u001b[0;34m,\u001b[0m\u001b[0;36m24\u001b[0m\u001b[0;34m,\u001b[0m\u001b[0;36m1\u001b[0m\u001b[0;34m,\u001b[0m\u001b[0;34m]\u001b[0m\u001b[0;34m,\u001b[0m\u001b[0;34m[\u001b[0m\u001b[0;36m25\u001b[0m\u001b[0;34m,\u001b[0m\u001b[0;36m0\u001b[0m\u001b[0;34m,\u001b[0m\u001b[0;36m0\u001b[0m\u001b[0;34m,\u001b[0m\u001b[0;36m27\u001b[0m\u001b[0;34m,\u001b[0m\u001b[0;36m1\u001b[0m\u001b[0;34m,\u001b[0m\u001b[0;34m]\u001b[0m\u001b[0;34m,\u001b[0m\u001b[0;34m[\u001b[0m\u001b[0;36m29\u001b[0m\u001b[0;34m,\u001b[0m\u001b[0;36m1\u001b[0m\u001b[0;34m,\u001b[0m\u001b[0;36m1\u001b[0m\u001b[0;34m,\u001b[0m\u001b[0;36m32\u001b[0m\u001b[0;34m,\u001b[0m\u001b[0;36m0\u001b[0m\u001b[0;34m,\u001b[0m\u001b[0;34m]\u001b[0m\u001b[0;34m,\u001b[0m\u001b[0;34m[\u001b[0m\u001b[0;36m45\u001b[0m\u001b[0;34m,\u001b[0m\u001b[0;36m1\u001b[0m\u001b[0;34m,\u001b[0m\u001b[0;36m1\u001b[0m\u001b[0;34m,\u001b[0m\u001b[0;36m30\u001b[0m\u001b[0;34m,\u001b[0m\u001b[0;36m0\u001b[0m\u001b[0;34m,\u001b[0m\u001b[0;34m]\u001b[0m\u001b[0;34m,\u001b[0m\u001b[0;34m[\u001b[0m\u001b[0;36m50\u001b[0m\u001b[0;34m,\u001b[0m\u001b[0;36m1\u001b[0m\u001b[0;34m,\u001b[0m\u001b[0;36m1\u001b[0m\u001b[0;34m,\u001b[0m\u001b[0;36m28\u001b[0m\u001b[0;34m,\u001b[0m\u001b[0;36m0\u001b[0m\u001b[0;34m,\u001b[0m\u001b[0;34m]\u001b[0m\u001b[0;34m]\u001b[0m\u001b[0;34m\u001b[0m\u001b[0;34m\u001b[0m\u001b[0m\n\u001b[0;32m----> 2\u001b[0;31m \u001b[0mx\u001b[0m\u001b[0;34m[\u001b[0m\u001b[0;34m:\u001b[0m\u001b[0;34m,\u001b[0m\u001b[0;34m[\u001b[0m\u001b[0;36m1\u001b[0m\u001b[0;34m]\u001b[0m\u001b[0;34m]\u001b[0m\u001b[0;34m\u001b[0m\u001b[0;34m\u001b[0m\u001b[0m\n\u001b[0m",
      "\u001b[0;31mTypeError\u001b[0m: list indices must be integers or slices, not tuple"
     ]
    }
   ],
   "source": [
    "x=[[22,0,0,28,1,],[46,0,1,32,0,],[24,1,1,24,1,],[25,0,0,27,1,],[29,1,1,32,0,],[45,1,1,30,0,],[50,1,1,28,0,]]\n"
   ]
  }
 ],
 "metadata": {
  "kernelspec": {
   "display_name": "Python 3",
   "language": "python",
   "name": "python3"
  },
  "language_info": {
   "codemirror_mode": {
    "name": "ipython",
    "version": 3
   },
   "file_extension": ".py",
   "mimetype": "text/x-python",
   "name": "python",
   "nbconvert_exporter": "python",
   "pygments_lexer": "ipython3",
   "version": "3.8.5"
  }
 },
 "nbformat": 4,
 "nbformat_minor": 4
}
