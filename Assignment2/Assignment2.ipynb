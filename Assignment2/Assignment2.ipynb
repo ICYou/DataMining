{
 "cells": [
  {
   "cell_type": "markdown",
   "metadata": {},
   "source": [
    "# SETUP"
   ]
  },
  {
   "cell_type": "code",
   "execution_count": 1,
   "metadata": {},
   "outputs": [
    {
     "output_type": "stream",
     "name": "stderr",
     "text": [
      "[nltk_data] Downloading package stopwords to\n[nltk_data]     C:\\Users\\Koen\\AppData\\Roaming\\nltk_data...\n[nltk_data]   Package stopwords is already up-to-date!\n"
     ]
    }
   ],
   "source": [
    "#IMPORTS\n",
    "import numpy as np\n",
    "import pandas as pd\n",
    "import os\n",
    "import re\n",
    "import string\n",
    "import nltk\n",
    "nltk.download('stopwords')\n",
    "from nltk.corpus import stopwords\n",
    "from sklearn.feature_extraction.text import TfidfVectorizer\n",
    "from IPython.display import display\n",
    "from sklearn import naive_bayes, linear_model, tree, ensemble\n",
    "from sklearn.model_selection import GridSearchCV\n",
    "from sklearn.metrics import recall_score, precision_score, accuracy_score, f1_score\n",
    "from collections import OrderedDict"
   ]
  },
  {
   "cell_type": "code",
   "execution_count": 2,
   "metadata": {},
   "outputs": [],
   "source": [
    "def load_reviews(path, fold_nrs, label):\n",
    "    columns = ['Raw', 'Processed', 'Label']\n",
    "    df = pd.DataFrame()\n",
    "    for i in fold_nrs:\n",
    "        fold = \"fold\"+str(i)\n",
    "        p = path + fold\n",
    "        for file in os.listdir(p): # for each .txt file in this fold's folder\n",
    "            if file.endswith(\".txt\"):\n",
    "                f = open(os.path.join(p, file), \"r\")\n",
    "                review = f.read()\n",
    "                # remove whitespaces, numbers, punctuation, & make lowercase\n",
    "                processed = process_string(review)\n",
    "                new_row = pd.DataFrame([[review, processed, label]])\n",
    "                df = df.append(new_row)\n",
    "    df.columns = columns\n",
    "    return df\n",
    "\n",
    "def make_train_test_set():\n",
    "    # Focusing only on the negative reviews\n",
    "    path_dec = \"./op_spam_v1.4/negative_polarity/deceptive_from_MTurk/\"\n",
    "    path_true = \"./op_spam_v1.4/negative_polarity/truthful_from_Web/\"\n",
    "\n",
    "    # Label = 1 if it is a truthful (negative) review, =0 if it is a deceptive (negative) review\n",
    "\n",
    "    #loading training set:\n",
    "    train_dec = load_reviews(path_dec, np.arange(4)+1, 0) # folds 1-4 form the training set\n",
    "    train_true = load_reviews(path_true, np.arange(4)+1, 1)\n",
    "    train = pd.concat([train_dec, train_true])\n",
    "    train = train.reset_index(drop=True)\n",
    "\n",
    "    #loading the test set:\n",
    "    test_dec = load_reviews(path_dec, [5], 0)  # test set for deceptive reviews\n",
    "    test_true = load_reviews(path_true, [5], 1)\n",
    "    test = pd.concat([test_dec, test_true])\n",
    "    test = test.reset_index(drop=True)\n",
    "\n",
    "    return [train,test]\n",
    "\n",
    "def process_string(s):\n",
    "    s = s.strip()    # remove whitespaces\n",
    "    s = s.lower() # to lowercase\n",
    "    s = re.sub(r'\\d+', '', s) # remove numbers\n",
    "    s = s.translate(str.maketrans(\"\",\"\", string.punctuation)) # remove punctuation\n",
    "    return s\n",
    "\n",
    "\n",
    "##########################\n",
    "###Process files to CSV###\n",
    "##########################\n",
    "\n",
    "# train, test = make_train_test_set()\n",
    "# train.to_csv(\"./train.csv\", header = ['Raw', 'Processed', 'Label'], index=False)\n",
    "# test.to_csv(\"./test.csv\", header = ['Raw', 'Processed', 'Label'], index=False)\n",
    "\n"
   ]
  },
  {
   "cell_type": "code",
   "execution_count": 4,
   "metadata": {},
   "outputs": [
    {
     "output_type": "stream",
     "name": "stdout",
     "text": [
      "\n Shape of training set: (640, 3)\n                                                 Raw  \\\n0  My husband and I stayed at the Sofitel Chicago...   \n1  Staying at the Sofitel was one of the less ple...   \n2  I stayed at Sofitel with my husband for a week...   \n3  I stayed at the Sofitel Chicago Water Tower ho...   \n4  After arriving at the Sofitel Chicago Water To...   \n\n                                           Processed  Label  \n0  my husband and i stayed at the sofitel chicago...      0  \n1  staying at the sofitel was one of the less ple...      0  \n2  i stayed at sofitel with my husband for a week...      0  \n3  i stayed at the sofitel chicago water tower ho...      0  \n4  after arriving at the sofitel chicago water to...      0  \n\n Shape of test set: (160, 3)\n                                                 Raw  \\\n0  I stayed at the InterContinental in Chicago fo...   \n1  I have to agree that the InterContinental Chic...   \n2  Upon entering my hotel room at The Palmer Hous...   \n3  We will not be back to this hotel. There are s...   \n4  The Intercontinental Chicago Magnificent Mile ...   \n\n                                           Processed  Label  \n0  i stayed at the intercontinental in chicago fo...      0  \n1  i have to agree that the intercontinental chic...      0  \n2  upon entering my hotel room at the palmer hous...      0  \n3  we will not be back to this hotel there are se...      0  \n4  the intercontinental chicago magnificent mile ...      0  \n"
     ]
    },
    {
     "output_type": "execute_result",
     "data": {
      "text/plain": [
       "                                                 Raw  \\\n",
       "0  My husband and I stayed at the Sofitel Chicago...   \n",
       "1  Staying at the Sofitel was one of the less ple...   \n",
       "2  I stayed at Sofitel with my husband for a week...   \n",
       "3  I stayed at the Sofitel Chicago Water Tower ho...   \n",
       "4  After arriving at the Sofitel Chicago Water To...   \n",
       "\n",
       "                                           Processed  Label  \n",
       "0  my husband and i stayed at the sofitel chicago...      0  \n",
       "1  staying at the sofitel was one of the less ple...      0  \n",
       "2  i stayed at sofitel with my husband for a week...      0  \n",
       "3  i stayed at the sofitel chicago water tower ho...      0  \n",
       "4  after arriving at the sofitel chicago water to...      0  "
      ],
      "text/html": "<div>\n<style scoped>\n    .dataframe tbody tr th:only-of-type {\n        vertical-align: middle;\n    }\n\n    .dataframe tbody tr th {\n        vertical-align: top;\n    }\n\n    .dataframe thead th {\n        text-align: right;\n    }\n</style>\n<table border=\"1\" class=\"dataframe\">\n  <thead>\n    <tr style=\"text-align: right;\">\n      <th></th>\n      <th>Raw</th>\n      <th>Processed</th>\n      <th>Label</th>\n    </tr>\n  </thead>\n  <tbody>\n    <tr>\n      <th>0</th>\n      <td>My husband and I stayed at the Sofitel Chicago...</td>\n      <td>my husband and i stayed at the sofitel chicago...</td>\n      <td>0</td>\n    </tr>\n    <tr>\n      <th>1</th>\n      <td>Staying at the Sofitel was one of the less ple...</td>\n      <td>staying at the sofitel was one of the less ple...</td>\n      <td>0</td>\n    </tr>\n    <tr>\n      <th>2</th>\n      <td>I stayed at Sofitel with my husband for a week...</td>\n      <td>i stayed at sofitel with my husband for a week...</td>\n      <td>0</td>\n    </tr>\n    <tr>\n      <th>3</th>\n      <td>I stayed at the Sofitel Chicago Water Tower ho...</td>\n      <td>i stayed at the sofitel chicago water tower ho...</td>\n      <td>0</td>\n    </tr>\n    <tr>\n      <th>4</th>\n      <td>After arriving at the Sofitel Chicago Water To...</td>\n      <td>after arriving at the sofitel chicago water to...</td>\n      <td>0</td>\n    </tr>\n  </tbody>\n</table>\n</div>"
     },
     "metadata": {},
     "execution_count": 4
    }
   ],
   "source": [
    "train = pd.read_csv(\"./train.csv\")\n",
    "test = pd.read_csv(\"test.csv\")\n",
    "\n",
    "print(f\"\\n Shape of training set: {train.shape}\")\n",
    "print(train.head())\n",
    "print(f\"\\n Shape of test set: {test.shape}\")\n",
    "print(test.head())\n",
    "\n",
    "train.head()"
   ]
  },
  {
   "cell_type": "code",
   "execution_count": 5,
   "metadata": {},
   "outputs": [
    {
     "output_type": "display_data",
     "data": {
      "text/plain": "     aaa  aaahed  aback  abassador  ability  able  abound  abrupt  absence  \\\n363  0.0     0.0    0.0        0.0      0.0   0.0     0.0     0.0      0.0   \n464  0.0     0.0    0.0        0.0      0.0   0.0     0.0     0.0      0.0   \n628  0.0     0.0    0.0        0.0      0.0   0.0     0.0     0.0      0.0   \n611  0.0     0.0    0.0        0.0      0.0   0.0     0.0     0.0      0.0   \n253  0.0     0.0    0.0        0.0      0.0   0.0     0.0     0.0      0.0   \n\n     absent  ...  youre  youth  youve  yrs  yuck  yummy  yunan  yup  zone  zoo  \n363     0.0  ...    0.0    0.0    0.0  0.0   0.0    0.0    0.0  0.0   0.0  0.0  \n464     0.0  ...    0.0    0.0    0.0  0.0   0.0    0.0    0.0  0.0   0.0  0.0  \n628     0.0  ...    0.0    0.0    0.0  0.0   0.0    0.0    0.0  0.0   0.0  0.0  \n611     0.0  ...    0.0    0.0    0.0  0.0   0.0    0.0    0.0  0.0   0.0  0.0  \n253     0.0  ...    0.0    0.0    0.0  0.0   0.0    0.0    0.0  0.0   0.0  0.0  \n\n[5 rows x 6955 columns]",
      "text/html": "<div>\n<style scoped>\n    .dataframe tbody tr th:only-of-type {\n        vertical-align: middle;\n    }\n\n    .dataframe tbody tr th {\n        vertical-align: top;\n    }\n\n    .dataframe thead th {\n        text-align: right;\n    }\n</style>\n<table border=\"1\" class=\"dataframe\">\n  <thead>\n    <tr style=\"text-align: right;\">\n      <th></th>\n      <th>aaa</th>\n      <th>aaahed</th>\n      <th>aback</th>\n      <th>abassador</th>\n      <th>ability</th>\n      <th>able</th>\n      <th>abound</th>\n      <th>abrupt</th>\n      <th>absence</th>\n      <th>absent</th>\n      <th>...</th>\n      <th>youre</th>\n      <th>youth</th>\n      <th>youve</th>\n      <th>yrs</th>\n      <th>yuck</th>\n      <th>yummy</th>\n      <th>yunan</th>\n      <th>yup</th>\n      <th>zone</th>\n      <th>zoo</th>\n    </tr>\n  </thead>\n  <tbody>\n    <tr>\n      <th>363</th>\n      <td>0.0</td>\n      <td>0.0</td>\n      <td>0.0</td>\n      <td>0.0</td>\n      <td>0.0</td>\n      <td>0.0</td>\n      <td>0.0</td>\n      <td>0.0</td>\n      <td>0.0</td>\n      <td>0.0</td>\n      <td>...</td>\n      <td>0.0</td>\n      <td>0.0</td>\n      <td>0.0</td>\n      <td>0.0</td>\n      <td>0.0</td>\n      <td>0.0</td>\n      <td>0.0</td>\n      <td>0.0</td>\n      <td>0.0</td>\n      <td>0.0</td>\n    </tr>\n    <tr>\n      <th>464</th>\n      <td>0.0</td>\n      <td>0.0</td>\n      <td>0.0</td>\n      <td>0.0</td>\n      <td>0.0</td>\n      <td>0.0</td>\n      <td>0.0</td>\n      <td>0.0</td>\n      <td>0.0</td>\n      <td>0.0</td>\n      <td>...</td>\n      <td>0.0</td>\n      <td>0.0</td>\n      <td>0.0</td>\n      <td>0.0</td>\n      <td>0.0</td>\n      <td>0.0</td>\n      <td>0.0</td>\n      <td>0.0</td>\n      <td>0.0</td>\n      <td>0.0</td>\n    </tr>\n    <tr>\n      <th>628</th>\n      <td>0.0</td>\n      <td>0.0</td>\n      <td>0.0</td>\n      <td>0.0</td>\n      <td>0.0</td>\n      <td>0.0</td>\n      <td>0.0</td>\n      <td>0.0</td>\n      <td>0.0</td>\n      <td>0.0</td>\n      <td>...</td>\n      <td>0.0</td>\n      <td>0.0</td>\n      <td>0.0</td>\n      <td>0.0</td>\n      <td>0.0</td>\n      <td>0.0</td>\n      <td>0.0</td>\n      <td>0.0</td>\n      <td>0.0</td>\n      <td>0.0</td>\n    </tr>\n    <tr>\n      <th>611</th>\n      <td>0.0</td>\n      <td>0.0</td>\n      <td>0.0</td>\n      <td>0.0</td>\n      <td>0.0</td>\n      <td>0.0</td>\n      <td>0.0</td>\n      <td>0.0</td>\n      <td>0.0</td>\n      <td>0.0</td>\n      <td>...</td>\n      <td>0.0</td>\n      <td>0.0</td>\n      <td>0.0</td>\n      <td>0.0</td>\n      <td>0.0</td>\n      <td>0.0</td>\n      <td>0.0</td>\n      <td>0.0</td>\n      <td>0.0</td>\n      <td>0.0</td>\n    </tr>\n    <tr>\n      <th>253</th>\n      <td>0.0</td>\n      <td>0.0</td>\n      <td>0.0</td>\n      <td>0.0</td>\n      <td>0.0</td>\n      <td>0.0</td>\n      <td>0.0</td>\n      <td>0.0</td>\n      <td>0.0</td>\n      <td>0.0</td>\n      <td>...</td>\n      <td>0.0</td>\n      <td>0.0</td>\n      <td>0.0</td>\n      <td>0.0</td>\n      <td>0.0</td>\n      <td>0.0</td>\n      <td>0.0</td>\n      <td>0.0</td>\n      <td>0.0</td>\n      <td>0.0</td>\n    </tr>\n  </tbody>\n</table>\n<p>5 rows × 6955 columns</p>\n</div>"
     },
     "metadata": {}
    },
    {
     "output_type": "display_data",
     "data": {
      "text/plain": "363    1\n464    1\n628    1\n611    1\n253    0\nName: Label, dtype: int64"
     },
     "metadata": {}
    },
    {
     "output_type": "display_data",
     "data": {
      "text/plain": "     aaa  aaahed  aback  abassador  ability  able  abound  abrupt  absence  \\\n81   0.0     0.0    0.0        0.0      0.0   0.0     0.0     0.0      0.0   \n68   0.0     0.0    0.0        0.0      0.0   0.0     0.0     0.0      0.0   \n104  0.0     0.0    0.0        0.0      0.0   0.0     0.0     0.0      0.0   \n71   0.0     0.0    0.0        0.0      0.0   0.0     0.0     0.0      0.0   \n25   0.0     0.0    0.0        0.0      0.0   0.0     0.0     0.0      0.0   \n\n     absent  ...     youre  youth  youve  yrs  yuck  yummy  yunan  yup  zone  \\\n81      0.0  ...  0.000000    0.0    0.0  0.0   0.0    0.0    0.0  0.0   0.0   \n68      0.0  ...  0.000000    0.0    0.0  0.0   0.0    0.0    0.0  0.0   0.0   \n104     0.0  ...  0.000000    0.0    0.0  0.0   0.0    0.0    0.0  0.0   0.0   \n71      0.0  ...  0.091789    0.0    0.0  0.0   0.0    0.0    0.0  0.0   0.0   \n25      0.0  ...  0.000000    0.0    0.0  0.0   0.0    0.0    0.0  0.0   0.0   \n\n     zoo  \n81   0.0  \n68   0.0  \n104  0.0  \n71   0.0  \n25   0.0  \n\n[5 rows x 6955 columns]",
      "text/html": "<div>\n<style scoped>\n    .dataframe tbody tr th:only-of-type {\n        vertical-align: middle;\n    }\n\n    .dataframe tbody tr th {\n        vertical-align: top;\n    }\n\n    .dataframe thead th {\n        text-align: right;\n    }\n</style>\n<table border=\"1\" class=\"dataframe\">\n  <thead>\n    <tr style=\"text-align: right;\">\n      <th></th>\n      <th>aaa</th>\n      <th>aaahed</th>\n      <th>aback</th>\n      <th>abassador</th>\n      <th>ability</th>\n      <th>able</th>\n      <th>abound</th>\n      <th>abrupt</th>\n      <th>absence</th>\n      <th>absent</th>\n      <th>...</th>\n      <th>youre</th>\n      <th>youth</th>\n      <th>youve</th>\n      <th>yrs</th>\n      <th>yuck</th>\n      <th>yummy</th>\n      <th>yunan</th>\n      <th>yup</th>\n      <th>zone</th>\n      <th>zoo</th>\n    </tr>\n  </thead>\n  <tbody>\n    <tr>\n      <th>81</th>\n      <td>0.0</td>\n      <td>0.0</td>\n      <td>0.0</td>\n      <td>0.0</td>\n      <td>0.0</td>\n      <td>0.0</td>\n      <td>0.0</td>\n      <td>0.0</td>\n      <td>0.0</td>\n      <td>0.0</td>\n      <td>...</td>\n      <td>0.000000</td>\n      <td>0.0</td>\n      <td>0.0</td>\n      <td>0.0</td>\n      <td>0.0</td>\n      <td>0.0</td>\n      <td>0.0</td>\n      <td>0.0</td>\n      <td>0.0</td>\n      <td>0.0</td>\n    </tr>\n    <tr>\n      <th>68</th>\n      <td>0.0</td>\n      <td>0.0</td>\n      <td>0.0</td>\n      <td>0.0</td>\n      <td>0.0</td>\n      <td>0.0</td>\n      <td>0.0</td>\n      <td>0.0</td>\n      <td>0.0</td>\n      <td>0.0</td>\n      <td>...</td>\n      <td>0.000000</td>\n      <td>0.0</td>\n      <td>0.0</td>\n      <td>0.0</td>\n      <td>0.0</td>\n      <td>0.0</td>\n      <td>0.0</td>\n      <td>0.0</td>\n      <td>0.0</td>\n      <td>0.0</td>\n    </tr>\n    <tr>\n      <th>104</th>\n      <td>0.0</td>\n      <td>0.0</td>\n      <td>0.0</td>\n      <td>0.0</td>\n      <td>0.0</td>\n      <td>0.0</td>\n      <td>0.0</td>\n      <td>0.0</td>\n      <td>0.0</td>\n      <td>0.0</td>\n      <td>...</td>\n      <td>0.000000</td>\n      <td>0.0</td>\n      <td>0.0</td>\n      <td>0.0</td>\n      <td>0.0</td>\n      <td>0.0</td>\n      <td>0.0</td>\n      <td>0.0</td>\n      <td>0.0</td>\n      <td>0.0</td>\n    </tr>\n    <tr>\n      <th>71</th>\n      <td>0.0</td>\n      <td>0.0</td>\n      <td>0.0</td>\n      <td>0.0</td>\n      <td>0.0</td>\n      <td>0.0</td>\n      <td>0.0</td>\n      <td>0.0</td>\n      <td>0.0</td>\n      <td>0.0</td>\n      <td>...</td>\n      <td>0.091789</td>\n      <td>0.0</td>\n      <td>0.0</td>\n      <td>0.0</td>\n      <td>0.0</td>\n      <td>0.0</td>\n      <td>0.0</td>\n      <td>0.0</td>\n      <td>0.0</td>\n      <td>0.0</td>\n    </tr>\n    <tr>\n      <th>25</th>\n      <td>0.0</td>\n      <td>0.0</td>\n      <td>0.0</td>\n      <td>0.0</td>\n      <td>0.0</td>\n      <td>0.0</td>\n      <td>0.0</td>\n      <td>0.0</td>\n      <td>0.0</td>\n      <td>0.0</td>\n      <td>...</td>\n      <td>0.000000</td>\n      <td>0.0</td>\n      <td>0.0</td>\n      <td>0.0</td>\n      <td>0.0</td>\n      <td>0.0</td>\n      <td>0.0</td>\n      <td>0.0</td>\n      <td>0.0</td>\n      <td>0.0</td>\n    </tr>\n  </tbody>\n</table>\n<p>5 rows × 6955 columns</p>\n</div>"
     },
     "metadata": {}
    },
    {
     "output_type": "display_data",
     "data": {
      "text/plain": "81     1\n68     0\n104    1\n71     0\n25     0\nName: Label, dtype: int64"
     },
     "metadata": {}
    },
    {
     "output_type": "display_data",
     "data": {
      "text/plain": "     aaa one  aaahed picture  aback phone  abassador east  abassador future  \\\n623      0.0             0.0          0.0             0.0               0.0   \n275      0.0             0.0          0.0             0.0               0.0   \n541      0.0             0.0          0.0             0.0               0.0   \n181      0.0             0.0          0.0             0.0               0.0   \n433      0.0             0.0          0.0             0.0               0.0   \n\n     ability fully  ability play  ability supply  able change  able check  \\\n623            0.0           0.0             0.0          0.0         0.0   \n275            0.0           0.0             0.0          0.0         0.0   \n541            0.0           0.0             0.0          0.0         0.0   \n181            0.0           0.0             0.0          0.0         0.0   \n433            0.0           0.0             0.0          0.0         0.0   \n\n     ...  yrs old  yuck im  yuck next  yummy conclusion  yunan didnt  \\\n623  ...      0.0      0.0        0.0               0.0          0.0   \n275  ...      0.0      0.0        0.0               0.0          0.0   \n541  ...      0.0      0.0        0.0               0.0          0.0   \n181  ...      0.0      0.0        0.0               0.0          0.0   \n433  ...      0.0      0.0        0.0               0.0          0.0   \n\n     yup even  yup got  zone computer  zone would  zoo second  \n623       0.0      0.0            0.0         0.0         0.0  \n275       0.0      0.0            0.0         0.0         0.0  \n541       0.0      0.0            0.0         0.0         0.0  \n181       0.0      0.0            0.0         0.0         0.0  \n433       0.0      0.0            0.0         0.0         0.0  \n\n[5 rows x 42436 columns]",
      "text/html": "<div>\n<style scoped>\n    .dataframe tbody tr th:only-of-type {\n        vertical-align: middle;\n    }\n\n    .dataframe tbody tr th {\n        vertical-align: top;\n    }\n\n    .dataframe thead th {\n        text-align: right;\n    }\n</style>\n<table border=\"1\" class=\"dataframe\">\n  <thead>\n    <tr style=\"text-align: right;\">\n      <th></th>\n      <th>aaa one</th>\n      <th>aaahed picture</th>\n      <th>aback phone</th>\n      <th>abassador east</th>\n      <th>abassador future</th>\n      <th>ability fully</th>\n      <th>ability play</th>\n      <th>ability supply</th>\n      <th>able change</th>\n      <th>able check</th>\n      <th>...</th>\n      <th>yrs old</th>\n      <th>yuck im</th>\n      <th>yuck next</th>\n      <th>yummy conclusion</th>\n      <th>yunan didnt</th>\n      <th>yup even</th>\n      <th>yup got</th>\n      <th>zone computer</th>\n      <th>zone would</th>\n      <th>zoo second</th>\n    </tr>\n  </thead>\n  <tbody>\n    <tr>\n      <th>623</th>\n      <td>0.0</td>\n      <td>0.0</td>\n      <td>0.0</td>\n      <td>0.0</td>\n      <td>0.0</td>\n      <td>0.0</td>\n      <td>0.0</td>\n      <td>0.0</td>\n      <td>0.0</td>\n      <td>0.0</td>\n      <td>...</td>\n      <td>0.0</td>\n      <td>0.0</td>\n      <td>0.0</td>\n      <td>0.0</td>\n      <td>0.0</td>\n      <td>0.0</td>\n      <td>0.0</td>\n      <td>0.0</td>\n      <td>0.0</td>\n      <td>0.0</td>\n    </tr>\n    <tr>\n      <th>275</th>\n      <td>0.0</td>\n      <td>0.0</td>\n      <td>0.0</td>\n      <td>0.0</td>\n      <td>0.0</td>\n      <td>0.0</td>\n      <td>0.0</td>\n      <td>0.0</td>\n      <td>0.0</td>\n      <td>0.0</td>\n      <td>...</td>\n      <td>0.0</td>\n      <td>0.0</td>\n      <td>0.0</td>\n      <td>0.0</td>\n      <td>0.0</td>\n      <td>0.0</td>\n      <td>0.0</td>\n      <td>0.0</td>\n      <td>0.0</td>\n      <td>0.0</td>\n    </tr>\n    <tr>\n      <th>541</th>\n      <td>0.0</td>\n      <td>0.0</td>\n      <td>0.0</td>\n      <td>0.0</td>\n      <td>0.0</td>\n      <td>0.0</td>\n      <td>0.0</td>\n      <td>0.0</td>\n      <td>0.0</td>\n      <td>0.0</td>\n      <td>...</td>\n      <td>0.0</td>\n      <td>0.0</td>\n      <td>0.0</td>\n      <td>0.0</td>\n      <td>0.0</td>\n      <td>0.0</td>\n      <td>0.0</td>\n      <td>0.0</td>\n      <td>0.0</td>\n      <td>0.0</td>\n    </tr>\n    <tr>\n      <th>181</th>\n      <td>0.0</td>\n      <td>0.0</td>\n      <td>0.0</td>\n      <td>0.0</td>\n      <td>0.0</td>\n      <td>0.0</td>\n      <td>0.0</td>\n      <td>0.0</td>\n      <td>0.0</td>\n      <td>0.0</td>\n      <td>...</td>\n      <td>0.0</td>\n      <td>0.0</td>\n      <td>0.0</td>\n      <td>0.0</td>\n      <td>0.0</td>\n      <td>0.0</td>\n      <td>0.0</td>\n      <td>0.0</td>\n      <td>0.0</td>\n      <td>0.0</td>\n    </tr>\n    <tr>\n      <th>433</th>\n      <td>0.0</td>\n      <td>0.0</td>\n      <td>0.0</td>\n      <td>0.0</td>\n      <td>0.0</td>\n      <td>0.0</td>\n      <td>0.0</td>\n      <td>0.0</td>\n      <td>0.0</td>\n      <td>0.0</td>\n      <td>...</td>\n      <td>0.0</td>\n      <td>0.0</td>\n      <td>0.0</td>\n      <td>0.0</td>\n      <td>0.0</td>\n      <td>0.0</td>\n      <td>0.0</td>\n      <td>0.0</td>\n      <td>0.0</td>\n      <td>0.0</td>\n    </tr>\n  </tbody>\n</table>\n<p>5 rows × 42436 columns</p>\n</div>"
     },
     "metadata": {}
    },
    {
     "output_type": "display_data",
     "data": {
      "text/plain": "623    1\n275    0\n541    1\n181    0\n433    1\nName: Label, dtype: int64"
     },
     "metadata": {}
    },
    {
     "output_type": "display_data",
     "data": {
      "text/plain": "     aaa one  aaahed picture  aback phone  abassador east  abassador future  \\\n119      0.0             0.0          0.0             0.0               0.0   \n80       0.0             0.0          0.0             0.0               0.0   \n42       0.0             0.0          0.0             0.0               0.0   \n81       0.0             0.0          0.0             0.0               0.0   \n5        0.0             0.0          0.0             0.0               0.0   \n\n     ability fully  ability play  ability supply  able change  able check  \\\n119            0.0           0.0             0.0          0.0         0.0   \n80             0.0           0.0             0.0          0.0         0.0   \n42             0.0           0.0             0.0          0.0         0.0   \n81             0.0           0.0             0.0          0.0         0.0   \n5              0.0           0.0             0.0          0.0         0.0   \n\n     ...  yrs old  yuck im  yuck next  yummy conclusion  yunan didnt  \\\n119  ...      0.0      0.0        0.0               0.0          0.0   \n80   ...      0.0      0.0        0.0               0.0          0.0   \n42   ...      0.0      0.0        0.0               0.0          0.0   \n81   ...      0.0      0.0        0.0               0.0          0.0   \n5    ...      0.0      0.0        0.0               0.0          0.0   \n\n     yup even  yup got  zone computer  zone would  zoo second  \n119       0.0      0.0            0.0         0.0         0.0  \n80        0.0      0.0            0.0         0.0         0.0  \n42        0.0      0.0            0.0         0.0         0.0  \n81        0.0      0.0            0.0         0.0         0.0  \n5         0.0      0.0            0.0         0.0         0.0  \n\n[5 rows x 42436 columns]",
      "text/html": "<div>\n<style scoped>\n    .dataframe tbody tr th:only-of-type {\n        vertical-align: middle;\n    }\n\n    .dataframe tbody tr th {\n        vertical-align: top;\n    }\n\n    .dataframe thead th {\n        text-align: right;\n    }\n</style>\n<table border=\"1\" class=\"dataframe\">\n  <thead>\n    <tr style=\"text-align: right;\">\n      <th></th>\n      <th>aaa one</th>\n      <th>aaahed picture</th>\n      <th>aback phone</th>\n      <th>abassador east</th>\n      <th>abassador future</th>\n      <th>ability fully</th>\n      <th>ability play</th>\n      <th>ability supply</th>\n      <th>able change</th>\n      <th>able check</th>\n      <th>...</th>\n      <th>yrs old</th>\n      <th>yuck im</th>\n      <th>yuck next</th>\n      <th>yummy conclusion</th>\n      <th>yunan didnt</th>\n      <th>yup even</th>\n      <th>yup got</th>\n      <th>zone computer</th>\n      <th>zone would</th>\n      <th>zoo second</th>\n    </tr>\n  </thead>\n  <tbody>\n    <tr>\n      <th>119</th>\n      <td>0.0</td>\n      <td>0.0</td>\n      <td>0.0</td>\n      <td>0.0</td>\n      <td>0.0</td>\n      <td>0.0</td>\n      <td>0.0</td>\n      <td>0.0</td>\n      <td>0.0</td>\n      <td>0.0</td>\n      <td>...</td>\n      <td>0.0</td>\n      <td>0.0</td>\n      <td>0.0</td>\n      <td>0.0</td>\n      <td>0.0</td>\n      <td>0.0</td>\n      <td>0.0</td>\n      <td>0.0</td>\n      <td>0.0</td>\n      <td>0.0</td>\n    </tr>\n    <tr>\n      <th>80</th>\n      <td>0.0</td>\n      <td>0.0</td>\n      <td>0.0</td>\n      <td>0.0</td>\n      <td>0.0</td>\n      <td>0.0</td>\n      <td>0.0</td>\n      <td>0.0</td>\n      <td>0.0</td>\n      <td>0.0</td>\n      <td>...</td>\n      <td>0.0</td>\n      <td>0.0</td>\n      <td>0.0</td>\n      <td>0.0</td>\n      <td>0.0</td>\n      <td>0.0</td>\n      <td>0.0</td>\n      <td>0.0</td>\n      <td>0.0</td>\n      <td>0.0</td>\n    </tr>\n    <tr>\n      <th>42</th>\n      <td>0.0</td>\n      <td>0.0</td>\n      <td>0.0</td>\n      <td>0.0</td>\n      <td>0.0</td>\n      <td>0.0</td>\n      <td>0.0</td>\n      <td>0.0</td>\n      <td>0.0</td>\n      <td>0.0</td>\n      <td>...</td>\n      <td>0.0</td>\n      <td>0.0</td>\n      <td>0.0</td>\n      <td>0.0</td>\n      <td>0.0</td>\n      <td>0.0</td>\n      <td>0.0</td>\n      <td>0.0</td>\n      <td>0.0</td>\n      <td>0.0</td>\n    </tr>\n    <tr>\n      <th>81</th>\n      <td>0.0</td>\n      <td>0.0</td>\n      <td>0.0</td>\n      <td>0.0</td>\n      <td>0.0</td>\n      <td>0.0</td>\n      <td>0.0</td>\n      <td>0.0</td>\n      <td>0.0</td>\n      <td>0.0</td>\n      <td>...</td>\n      <td>0.0</td>\n      <td>0.0</td>\n      <td>0.0</td>\n      <td>0.0</td>\n      <td>0.0</td>\n      <td>0.0</td>\n      <td>0.0</td>\n      <td>0.0</td>\n      <td>0.0</td>\n      <td>0.0</td>\n    </tr>\n    <tr>\n      <th>5</th>\n      <td>0.0</td>\n      <td>0.0</td>\n      <td>0.0</td>\n      <td>0.0</td>\n      <td>0.0</td>\n      <td>0.0</td>\n      <td>0.0</td>\n      <td>0.0</td>\n      <td>0.0</td>\n      <td>0.0</td>\n      <td>...</td>\n      <td>0.0</td>\n      <td>0.0</td>\n      <td>0.0</td>\n      <td>0.0</td>\n      <td>0.0</td>\n      <td>0.0</td>\n      <td>0.0</td>\n      <td>0.0</td>\n      <td>0.0</td>\n      <td>0.0</td>\n    </tr>\n  </tbody>\n</table>\n<p>5 rows × 42436 columns</p>\n</div>"
     },
     "metadata": {}
    },
    {
     "output_type": "display_data",
     "data": {
      "text/plain": "119    1\n80     1\n42     0\n81     1\n5      0\nName: Label, dtype: int64"
     },
     "metadata": {}
    }
   ],
   "source": [
    "def Tfidf_word(data, stopwords = None):\n",
    "    vectorizer = TfidfVectorizer(stop_words = stopwords)\n",
    "    vec = vectorizer.fit_transform(data)\n",
    "    return pd.DataFrame(vec.toarray(),columns=vectorizer.get_feature_names())\n",
    "\n",
    "def Tfidf_bigram(data, stopwords = None):\n",
    "    vectorizer = TfidfVectorizer(stop_words = stopwords, ngram_range=(2,2))\n",
    "    vec = vectorizer.fit_transform(data)\n",
    "    return pd.DataFrame(vec.toarray(),columns=vectorizer.get_feature_names())\n",
    "\n",
    "def make_xy(data, bigram = False):\n",
    "    if bigram:\n",
    "        features = Tfidf_bigram(data[\"Processed\"], stopwords = stopwords.words('english'))    \n",
    "    else:\n",
    "        features = Tfidf_word(data[\"Processed\"], stopwords = stopwords.words('english'))\n",
    "    merged = pd.merge(data, features, left_index = True, right_index = True).sample(frac=1) #merge data and shuffle\n",
    "    return merged.iloc[:,3:], merged[\"Label\"] #return x and y\n",
    "\n",
    "def make_xy_train_test(train, test, bigram = False):\n",
    "    if bigram: # use training data to make vectorizer (vocabulary)\n",
    "        features = Tfidf_bigram(train[\"Processed\"], stopwords = stopwords.words('english'))    \n",
    "    else:\n",
    "        features = Tfidf_word(train[\"Processed\"], stopwords = stopwords.words('english'))\n",
    "    train_merged = pd.merge(train, features, left_index = True, right_index = True).sample(frac=1) #merge data and shuffle\n",
    "    test_merged = pd.merge(test, features, left_index = True, right_index = True).sample(frac=1) #merge data and shuffle\n",
    "    return [train_merged.iloc[:,3:], train_merged[\"Label\"], test_merged.iloc[:,3:], test_merged[\"Label\"]] #return [x_train, y_train,\n",
    "    \n",
    "\n",
    "train_x, train_y, test_x, test_y = make_xy_train_test(train, test)\n",
    "#train_x, train_y = make_xy(train)\n",
    "#test_x, test_y = make_xy(test)\n",
    "\n",
    "bitrain_x, bitrain_y, bitest_x, bitest_y = make_xy_train_test(train, test, bigram=True)\n",
    "#bitrain_x, bitrain_y = make_xy(train, bigram = True)\n",
    "#bitest_x, bitest_y = make_xy(test, bigram = True)\n",
    "\n",
    "\n",
    "display(train_x.head())\n",
    "display(train_y.head())\n",
    "display(test_x.head())\n",
    "display(test_y.head())\n",
    "\n",
    "display(bitrain_x.head())\n",
    "display(bitrain_y.head())\n",
    "display(bitest_x.head())\n",
    "display(bitest_y.head())\n"
   ]
  },
  {
   "cell_type": "markdown",
   "metadata": {},
   "source": [
    "# Analysis\n",
    "Use cross-validation or (for random forests) out-of-bag evaluation to select the values of the hyper-parameters of the algorithms on the training set."
   ]
  },
  {
   "cell_type": "markdown",
   "metadata": {},
   "source": [
    "## Multinomial naive Bayes (generative linear classifier)\n",
    "For naive Bayes, the performance might be improved by applying some form of feature selection (in addition to removing the sparse terms)."
   ]
  },
  {
   "cell_type": "code",
   "execution_count": 6,
   "metadata": {},
   "outputs": [],
   "source": [
    "class Classifier(object):\n",
    "    \"\"\" Generic classifier object. \"\"\"\n",
    "    def __init__(self):\n",
    "        self.name = \"Classifier\"\n",
    "        self.esimator = None\n",
    "    \n",
    "    def evaluate(self, X_test, y_test):\n",
    "        y_pred = self.estimator.predict(X_test)\n",
    "        recall = recall_score(y_test, y_pred)\n",
    "        precision = precision_score(y_test, y_pred)\n",
    "        accuracy = accuracy_score(y_test, y_pred)\n",
    "        f1 = f1_score(y_test, y_pred)\n",
    "        return recall, precision, accuracy, f1\n",
    "\n",
    "class NaiveBayes(Classifier):\n",
    "    \"\"\" Hyper-parameter tuning for the multinominal naive bayes classifier. \"\"\"\n",
    "    def __init__(self):\n",
    "        self.name = \"Naive Bayes\"\n",
    "        self.estimator = naive_bayes.MultinomialNB()\n",
    "\n",
    "    def train(self, X_train, y_train):\n",
    "        # TODO: Some feature selection needs to go here\n",
    "        self.estimator.fit(X_train, y_train)\n",
    "        print(f\"{self.name} trained\")\n"
   ]
  },
  {
   "cell_type": "markdown",
   "metadata": {},
   "source": [
    "## Regularized logistic regression (discriminative linear classifier)"
   ]
  },
  {
   "cell_type": "code",
   "execution_count": 7,
   "metadata": {},
   "outputs": [],
   "source": [
    "class LogRegClassifier(Classifier):\n",
    "    \"\"\" Hyper-parameter tuning for the logistic regression classifier. \"\"\"\n",
    "    def __init__(self):\n",
    "        self.name = \"Logistic Regression\"\n",
    "        self.estimator = linear_model.LogisticRegressionCV(cv=4, max_iter=1000, Cs=[0.001, 0.01, 0.1, 1, 10, 100, 1000])\n",
    "\n",
    "    def train(self, X_train, y_train):\n",
    "        print(\"training...\", end='\\r')\n",
    "        self.estimator.fit(X_train, y_train)\n",
    "        print(f\"{self.name} trained with lambda: {self.estimator.C_}\")\n"
   ]
  },
  {
   "cell_type": "markdown",
   "metadata": {},
   "source": [
    "## Classification trees, (flexible classifier)\n"
   ]
  },
  {
   "cell_type": "code",
   "execution_count": 8,
   "metadata": {},
   "outputs": [],
   "source": [
    "class TreeClassifier(Classifier):\n",
    "    \"\"\" Hyper-parameter tuning for the decision tree classifier. \"\"\"\n",
    "    def __init__(self):\n",
    "        self.name = \"Decision Tree\"\n",
    "        self.estimator = tree.DecisionTreeClassifier()\n",
    "    \n",
    "    def train(self, X_train, y_train):\n",
    "        print(\"set aplhas...\", end='\\r')\n",
    "        path = self.estimator.cost_complexity_pruning_path(X_train, y_train)\n",
    "        ccp_alphas = path.ccp_alphas\n",
    "        parameters = {'ccp_alpha': ccp_alphas}\n",
    "        clf = GridSearchCV(self.estimator, parameters, cv=4)\n",
    "\n",
    "        print(\"training...\", end='\\r')\n",
    "        clf.fit(X_train, y_train)\n",
    "        self.estimator = clf.best_estimator_\n",
    "        print(f\"{self.name} trained with aplha: {self.estimator.ccp_alpha}\")\n"
   ]
  },
  {
   "cell_type": "markdown",
   "metadata": {},
   "source": [
    "## Random forests (flexible classifier)"
   ]
  },
  {
   "cell_type": "code",
   "execution_count": 9,
   "metadata": {},
   "outputs": [],
   "source": [
    "class RandForestClassifier(Classifier):\n",
    "    \"\"\" Hyper-parameter tuning for the random forest classifier. \"\"\"\n",
    "    def __init__(self, min_trees=20, max_trees=160):\n",
    "        self.name = \"Random Forest\"\n",
    "        self.estimator = ensemble.RandomForestClassifier(oob_score=True)\n",
    "        self.max_features_list = [\"auto\", \"sqrt\", \"log2\"]\n",
    "        self.n_trees = range(min_trees, max_trees, 10)\n",
    "\n",
    "    def train(self, X_train, y_train):\n",
    "        error_rates = OrderedDict((label, []) for label in self.max_features_list)\n",
    "        min_oob_error = [None, 0, 100]\n",
    "        for label in self.max_features_list:\n",
    "            for n in self.n_trees:\n",
    "                print(f\"tuning... {label}, {n}\", end='\\r')\n",
    "                self.estimator.set_params(n_estimators=n,max_features=label)\n",
    "                self.estimator.fit(X_train, y_train)\n",
    "                oob_error = 1 - self.estimator.oob_score_\n",
    "                error_rates[label].append((n, oob_error))\n",
    "                if oob_error < min_oob_error[2]:\n",
    "                    min_oob_error = [label, n, oob_error]\n",
    "\n",
    "        print(\"training...\", end='\\r')\n",
    "        self.estimator.set_params(n_estimators=min_oob_error[1],max_features=min_oob_error[0])\n",
    "        self.estimator.fit(X_train, y_train)\n",
    "        print(f\"{self.name} trained with hyper-parameters: {self.estimator.n_estimators}, {self.estimator.max_features}\")\n"
   ]
  },
  {
   "cell_type": "markdown",
   "metadata": {},
   "source": [
    "## Model accuracy comparison analysis\n",
    "Comparisons of the accuracy of different models should be supported by a statistical test. For the comparison of the other quality measures (precision, recall, F1 score), a statistical test is not required."
   ]
  },
  {
   "cell_type": "code",
   "execution_count": 13,
   "metadata": {},
   "outputs": [
    {
     "output_type": "stream",
     "name": "stdout",
     "text": [
      "Naive Bayes trained\n           Naive Bayes\nrecall             0.0\nprecision          0.0\naccuracy           0.5\nf1                 0.0\n"
     ]
    }
   ],
   "source": [
    "def run_models():\n",
    "    train = pd.read_csv(\"./train.csv\")\n",
    "    test = pd.read_csv(\"test.csv\")\n",
    "    train_x, train_y, test_x, test_y = make_xy_train_test(train, test)\n",
    "\n",
    "    # TODO: Evaluate does not work: there are no predictions being made\n",
    "    data = {}\n",
    "    classifiers = [NaiveBayes(), LogRegClassifier(), TreeClassifier(), RandForestClassifier()]\n",
    "    for clf in classifiers:\n",
    "        clf.train(train_x, train_y)\n",
    "        data[clf.name] = clf.evaluate(test_x, test_y)\n",
    "    df = pd.DataFrame(data, \\\n",
    "        columns=[clf.name for clf in classifiers], \\\n",
    "        index=[\"recall\", \"precision\", \"accuracy\", \"f1\"])\n",
    "    print(df)\n",
    "\n",
    "run_models()"
   ]
  },
  {
   "cell_type": "code",
   "execution_count": null,
   "metadata": {},
   "outputs": [],
   "source": []
  }
 ],
 "metadata": {
  "kernelspec": {
   "display_name": "Python 3",
   "language": "python",
   "name": "python3"
  },
  "language_info": {
   "codemirror_mode": {
    "name": "ipython",
    "version": 3
   },
   "file_extension": ".py",
   "mimetype": "text/x-python",
   "name": "python",
   "nbconvert_exporter": "python",
   "pygments_lexer": "ipython3",
   "version": "3.7.3-final"
  }
 },
 "nbformat": 4,
 "nbformat_minor": 2
}