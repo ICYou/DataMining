{
 "metadata": {
  "language_info": {
   "codemirror_mode": {
    "name": "ipython",
    "version": 3
   },
   "file_extension": ".py",
   "mimetype": "text/x-python",
   "name": "python",
   "nbconvert_exporter": "python",
   "pygments_lexer": "ipython3",
   "version": "3.8.6-final"
  },
  "orig_nbformat": 2,
  "kernelspec": {
   "name": "Python 3.8.6 64-bit",
   "display_name": "Python 3.8.6 64-bit",
   "metadata": {
    "interpreter": {
     "hash": "1ee38ef4a5a9feb55287fd749643f13d043cb0a7addaab2a9c224cbe137c0062"
    }
   }
  }
 },
 "nbformat": 4,
 "nbformat_minor": 2,
 "cells": [
  {
   "source": [
    "# SETUP"
   ],
   "cell_type": "markdown",
   "metadata": {}
  },
  {
   "cell_type": "code",
   "execution_count": 2,
   "metadata": {},
   "outputs": [],
   "source": [
    "#IMPORTS\n",
    "import pandas as pd\n",
    "import numpy as np\n",
    "import glob as glob\n",
    "import os\n",
    "\n",
    "from sklearn.feature_extraction.text import TfidfVectorizer\n",
    "    "
   ]
  },
  {
   "source": [
    "# Read data\n",
    "def readReviews(path):\n",
    "    reviews = []\n",
    "    for fold in range(1,6):\n",
    "        foldData = []\n",
    "        for filename in glob.glob(os.path.join(f'{path}/fold{fold}/', '*.txt')):\n",
    "            file = open(filename)\n",
    "            foldData.append(file.read())\n",
    "        reviews.append(foldData)\n",
    "    return reviews\n",
    "\n",
    "NT = readReviews(\"./op_spam_v1.4/negative_polarity/truthful_from_Web\")\n",
    "ND = readReviews(\"./op_spam_v1.4/negative_polarity/deceptive_from_MTurk\")\n",
    "# PT = readReviews(\"./op_spam_v1.4/positive_polarity/truthful_from_TripAdvisor\")\n",
    "# PD = readReviews(\"./op_spam_v1.4/positive_polarity/deceptive_from_MTurk\")\n",
    "\n",
    "#create test and train\n",
    "NTtrain = sum(NT[0:4], [])\n",
    "NDtrain = sum(ND[0:4], [])\n",
    "test = NT[4]\n",
    "\n",
    "#clean data/feature selection\n",
    "\n",
    "# Folds:\n",
    "# 1-4 (640 reviews) for training and hyper-parameter tuning\n",
    "# Fold 5 (160 reviews) is used to estimate the performance of the classifiers that were selected on the training set\n",
    "\n"
   ],
   "cell_type": "code",
   "metadata": {
    "tags": []
   },
   "execution_count": 3,
   "outputs": []
  },
  {
   "cell_type": "code",
   "execution_count": 24,
   "metadata": {},
   "outputs": [
    {
     "output_type": "stream",
     "name": "stderr",
     "text": [
      "[nltk_data] Downloading package stopwords to /Users/jsiu/nltk_data...\n[nltk_data]   Package stopwords is already up-to-date!\n"
     ]
    },
    {
     "output_type": "execute_result",
     "data": {
      "text/plain": [
       "             and  application       are  bytecode       can      code  \\\n",
       "Java    0.137553     0.116449  0.000000  0.116449  0.116449  0.116449   \n",
       "Python  0.323751     0.000000  0.208444  0.000000  0.000000  0.000000   \n",
       "Go      0.323751     0.000000  0.208444  0.000000  0.000000  0.000000   \n",
       "\n",
       "           comes  compiled   derived  develops  ...  software  standard  \\\n",
       "Java    0.000000  0.116449  0.116449  0.116449  ...  0.116449  0.000000   \n",
       "Python  0.208444  0.000000  0.000000  0.000000  ...  0.000000  0.208444   \n",
       "Go      0.208444  0.000000  0.000000  0.000000  ...  0.000000  0.208444   \n",
       "\n",
       "        supports    syntax    system   systems      that       the        up  \\\n",
       "Java    0.000000  0.116449  0.116449  0.116449  0.116449  0.349347  0.000000   \n",
       "Python  0.208444  0.000000  0.000000  0.000000  0.000000  0.000000  0.208444   \n",
       "Go      0.208444  0.000000  0.000000  0.000000  0.000000  0.000000  0.208444   \n",
       "\n",
       "            with  \n",
       "Java    0.000000  \n",
       "Python  0.208444  \n",
       "Go      0.208444  \n",
       "\n",
       "[3 rows x 49 columns]"
      ],
      "text/html": "<div>\n<style scoped>\n    .dataframe tbody tr th:only-of-type {\n        vertical-align: middle;\n    }\n\n    .dataframe tbody tr th {\n        vertical-align: top;\n    }\n\n    .dataframe thead th {\n        text-align: right;\n    }\n</style>\n<table border=\"1\" class=\"dataframe\">\n  <thead>\n    <tr style=\"text-align: right;\">\n      <th></th>\n      <th>and</th>\n      <th>application</th>\n      <th>are</th>\n      <th>bytecode</th>\n      <th>can</th>\n      <th>code</th>\n      <th>comes</th>\n      <th>compiled</th>\n      <th>derived</th>\n      <th>develops</th>\n      <th>...</th>\n      <th>software</th>\n      <th>standard</th>\n      <th>supports</th>\n      <th>syntax</th>\n      <th>system</th>\n      <th>systems</th>\n      <th>that</th>\n      <th>the</th>\n      <th>up</th>\n      <th>with</th>\n    </tr>\n  </thead>\n  <tbody>\n    <tr>\n      <th>Java</th>\n      <td>0.137553</td>\n      <td>0.116449</td>\n      <td>0.000000</td>\n      <td>0.116449</td>\n      <td>0.116449</td>\n      <td>0.116449</td>\n      <td>0.000000</td>\n      <td>0.116449</td>\n      <td>0.116449</td>\n      <td>0.116449</td>\n      <td>...</td>\n      <td>0.116449</td>\n      <td>0.000000</td>\n      <td>0.000000</td>\n      <td>0.116449</td>\n      <td>0.116449</td>\n      <td>0.116449</td>\n      <td>0.116449</td>\n      <td>0.349347</td>\n      <td>0.000000</td>\n      <td>0.000000</td>\n    </tr>\n    <tr>\n      <th>Python</th>\n      <td>0.323751</td>\n      <td>0.000000</td>\n      <td>0.208444</td>\n      <td>0.000000</td>\n      <td>0.000000</td>\n      <td>0.000000</td>\n      <td>0.208444</td>\n      <td>0.000000</td>\n      <td>0.000000</td>\n      <td>0.000000</td>\n      <td>...</td>\n      <td>0.000000</td>\n      <td>0.208444</td>\n      <td>0.208444</td>\n      <td>0.000000</td>\n      <td>0.000000</td>\n      <td>0.000000</td>\n      <td>0.000000</td>\n      <td>0.000000</td>\n      <td>0.208444</td>\n      <td>0.208444</td>\n    </tr>\n    <tr>\n      <th>Go</th>\n      <td>0.323751</td>\n      <td>0.000000</td>\n      <td>0.208444</td>\n      <td>0.000000</td>\n      <td>0.000000</td>\n      <td>0.000000</td>\n      <td>0.208444</td>\n      <td>0.000000</td>\n      <td>0.000000</td>\n      <td>0.000000</td>\n      <td>...</td>\n      <td>0.000000</td>\n      <td>0.208444</td>\n      <td>0.208444</td>\n      <td>0.000000</td>\n      <td>0.000000</td>\n      <td>0.000000</td>\n      <td>0.000000</td>\n      <td>0.000000</td>\n      <td>0.208444</td>\n      <td>0.208444</td>\n    </tr>\n  </tbody>\n</table>\n<p>3 rows × 49 columns</p>\n</div>"
     },
     "metadata": {},
     "execution_count": 24
    }
   ],
   "source": [
    "import nltk\n",
    "nltk.download('stopwords')\n",
    "from nltk.corpus import stopwords\n",
    "\n",
    "# Sample data for analysis\n",
    "data1 = \"Java is a language for programming that develops a software for several platforms. A compiled code or bytecode on Java application can run on most of the operating systems including Linux, Mac operating system, and Linux. Most of the syntax of Java is derived from the C++ and C languages.\"\n",
    "data2 = \"Python supports multiple programming paradigms and comes up with a large standard library, paradigms included are object-oriented, imperative, functional and procedural.\"\n",
    "data3 = \"Go is typed statically compiled language. It was created by Robert Griesemer, Ken Thompson, and Rob Pike in 2009. This language offers garbage collection, concurrency of CSP-style, memory safety, and structural typing.\"\n",
    " \n",
    "df1 = pd.DataFrame({'Java': [data1], 'Python': [data2], 'Go': [data2]})\n",
    " \n",
    "# Initialize\n",
    "vectorizer = TfidfVectorizer()\n",
    "# vectorizer = TfidfVectorizer(stop_words = stopwords.words('english'))\n",
    "doc_vec = vectorizer.fit_transform(df1.iloc[0])\n",
    "\n",
    "# Create dataFrame\n",
    "df2 = pd.DataFrame(doc_vec.toarray(),columns=vectorizer.get_feature_names(), index = df1.columns)\n",
    " \n",
    "# Change column headers\n",
    "# df2.columns = df1.columns\n",
    "df2.head()"
   ]
  },
  {
   "source": [
    "# Analysis\n",
    "Use cross-validation or (for random forests) out-of-bag evaluation to select the values of the hyper-parameters of the algorithms on the training set."
   ],
   "cell_type": "markdown",
   "metadata": {}
  },
  {
   "source": [
    "## Multinomial naive Bayes (generative linear classifier)\n",
    "For naive Bayes, the performance might be improved by applying some form of feature selection (in addition to removing the sparse terms)."
   ],
   "cell_type": "markdown",
   "metadata": {}
  },
  {
   "cell_type": "code",
   "execution_count": null,
   "metadata": {},
   "outputs": [],
   "source": []
  },
  {
   "source": [
    "## Regularized logistic regression (discriminative linear classifier)"
   ],
   "cell_type": "markdown",
   "metadata": {}
  },
  {
   "cell_type": "code",
   "execution_count": null,
   "metadata": {},
   "outputs": [],
   "source": []
  },
  {
   "source": [
    "## Classification trees, (flexible classifier)\n"
   ],
   "cell_type": "markdown",
   "metadata": {}
  },
  {
   "cell_type": "code",
   "execution_count": null,
   "metadata": {},
   "outputs": [],
   "source": []
  },
  {
   "source": [
    "## Random forests (flexible classifier)"
   ],
   "cell_type": "markdown",
   "metadata": {}
  },
  {
   "cell_type": "code",
   "execution_count": null,
   "metadata": {},
   "outputs": [],
   "source": []
  },
  {
   "source": [
    "## Model accuracy comparison analysis\n",
    "Comparisons of the accuracy of different models should be supported by a statistical test. For the comparison of the other quality measures (precision, recall, F1 score), a statistical test is not required."
   ],
   "cell_type": "markdown",
   "metadata": {}
  },
  {
   "cell_type": "code",
   "execution_count": null,
   "metadata": {},
   "outputs": [],
   "source": []
  }
 ]
}